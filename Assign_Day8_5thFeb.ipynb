{
 "cells": [
  {
   "attachments": {},
   "cell_type": "markdown",
   "metadata": {},
   "source": [
    "Q1. \"Class\" is a blueprint or template from which objects are created\n",
    "\n",
    "\"Objects\" are instances of class. Object is a real world entiry where as Class is an abstract idea."
   ]
  },
  {
   "cell_type": "code",
   "execution_count": 1,
   "metadata": {},
   "outputs": [],
   "source": [
    "class car():\n",
    "    \n",
    "    #constructor\n",
    "    def __init__(self, company = None, model_name = None, max_speed = None):\n",
    "        \n",
    "        self.__company = company\n",
    "        self.__model_name = model_name\n",
    "        self.__max_speed = max_speed\n",
    "    \n",
    "    #methods\n",
    "    def displayCompnay(self):\n",
    "        print(f\"{self.__company}\")\n",
    "        \n",
    "    def getCompany(self, company):\n",
    "        self.__company = company\n",
    "        "
   ]
  },
  {
   "cell_type": "code",
   "execution_count": 2,
   "metadata": {},
   "outputs": [
    {
     "name": "stdout",
     "output_type": "stream",
     "text": [
      "Toyota\n"
     ]
    }
   ],
   "source": [
    "obj_car = car(\"Toyota\", \"Innova\", \"120 kmph\")\n",
    "\n",
    "obj_car.displayCompnay()"
   ]
  },
  {
   "attachments": {},
   "cell_type": "markdown",
   "metadata": {},
   "source": [
    "Q2. Four pillars of OOPs:\n",
    "\n",
    "1. polymorphism\n",
    "2. inheritance\n",
    "3. encapsulation\n",
    "4. abstraction"
   ]
  },
  {
   "attachments": {},
   "cell_type": "markdown",
   "metadata": {},
   "source": [
    "Q3. \\_\\_init()\\_\\_ $\\Rightarrow$ is used as a constructor\n",
    "\n",
    "Refer Q1. example"
   ]
  },
  {
   "attachments": {},
   "cell_type": "markdown",
   "metadata": {},
   "source": [
    "Q4. \"self\" is a reference to the class"
   ]
  },
  {
   "attachments": {},
   "cell_type": "markdown",
   "metadata": {},
   "source": [
    "Q5. \"inheritance\" in OOPs is used for inheriting methods of parent calsses in children classes.\n",
    "\n",
    "Following is an example of \"multilevel\" inheritance"
   ]
  },
  {
   "cell_type": "code",
   "execution_count": 3,
   "metadata": {},
   "outputs": [
    {
     "name": "stdout",
     "output_type": "stream",
     "text": [
      "this is my class1\n"
     ]
    }
   ],
   "source": [
    "class class1:\n",
    "    \n",
    "    def test_class1(self):\n",
    "        print(\"this is my class1\")\n",
    "\n",
    "class class2(class1):\n",
    "    \n",
    "    def test_class2(self):\n",
    "        print(\"this is my class2\")\n",
    "\n",
    "class class3(class2):\n",
    "    \n",
    "    def test_class3(self):\n",
    "        print(\"this is my class3\")"
   ]
  },
  {
   "cell_type": "code",
   "execution_count": 4,
   "metadata": {},
   "outputs": [
    {
     "name": "stdout",
     "output_type": "stream",
     "text": [
      "this is my class1\n"
     ]
    }
   ],
   "source": [
    "obj_class3 = class3()\n",
    "\n",
    "obj_class3.test_class1()"
   ]
  },
  {
   "cell_type": "code",
   "execution_count": null,
   "metadata": {},
   "outputs": [],
   "source": []
  }
 ],
 "metadata": {
  "kernelspec": {
   "display_name": "Python 3",
   "language": "python",
   "name": "python3"
  },
  "language_info": {
   "codemirror_mode": {
    "name": "ipython",
    "version": 3
   },
   "file_extension": ".py",
   "mimetype": "text/x-python",
   "name": "python",
   "nbconvert_exporter": "python",
   "pygments_lexer": "ipython3",
   "version": "3.10.6"
  },
  "orig_nbformat": 4
 },
 "nbformat": 4,
 "nbformat_minor": 2
}
