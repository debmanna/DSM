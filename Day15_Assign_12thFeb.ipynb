{
 "cells": [
  {
   "attachments": {},
   "cell_type": "markdown",
   "metadata": {},
   "source": [
    "Q1.\n",
    "\n",
    "An 'Exception' is when the syntax are correct but there are certain incompatible operations in the code.\n",
    "\n",
    "Syntax errors occur due to violations of Python's syntax rules and are detected during the parsing phase, while exceptions occur during the execution of the code when an error condition arises. \n",
    "\n",
    "Syntax errors are raised by the interpreter before the code starts running, while exceptions are raised during runtime when something unexpected occurs.\n",
    "\n",
    "\n",
    "\n",
    "\n"
   ]
  },
  {
   "attachments": {},
   "cell_type": "markdown",
   "metadata": {},
   "source": [
    "Q2.\n",
    "\n",
    "When an exception is not handled in a Python program, it leads to the termination of the program (at that error line itself) and the display of an error message or traceback. Here's an example to illustrate this scenario:"
   ]
  },
  {
   "cell_type": "code",
   "execution_count": 1,
   "metadata": {},
   "outputs": [
    {
     "ename": "ZeroDivisionError",
     "evalue": "division by zero",
     "output_type": "error",
     "traceback": [
      "\u001b[0;31m---------------------------------------------------------------------------\u001b[0m",
      "\u001b[0;31mZeroDivisionError\u001b[0m                         Traceback (most recent call last)",
      "Cell \u001b[0;32mIn[1], line 7\u001b[0m\n\u001b[1;32m      4\u001b[0m numerator \u001b[39m=\u001b[39m \u001b[39m10\u001b[39m\n\u001b[1;32m      5\u001b[0m denominator \u001b[39m=\u001b[39m \u001b[39m0\u001b[39m\n\u001b[0;32m----> 7\u001b[0m result \u001b[39m=\u001b[39m divide_numbers(numerator, denominator)\n\u001b[1;32m      8\u001b[0m \u001b[39mprint\u001b[39m(\u001b[39m\"\u001b[39m\u001b[39mResult:\u001b[39m\u001b[39m\"\u001b[39m, result)\n",
      "Cell \u001b[0;32mIn[1], line 2\u001b[0m, in \u001b[0;36mdivide_numbers\u001b[0;34m(num1, num2)\u001b[0m\n\u001b[1;32m      1\u001b[0m \u001b[39mdef\u001b[39;00m \u001b[39mdivide_numbers\u001b[39m(num1, num2):\n\u001b[0;32m----> 2\u001b[0m     \u001b[39mreturn\u001b[39;00m num1 \u001b[39m/\u001b[39;49m num2\n",
      "\u001b[0;31mZeroDivisionError\u001b[0m: division by zero"
     ]
    }
   ],
   "source": [
    "def divide_numbers(num1, num2):\n",
    "    return num1 / num2\n",
    "\n",
    "numerator = 10\n",
    "denominator = 0\n",
    "\n",
    "result = divide_numbers(numerator, denominator)\n",
    "print(\"Result:\", result)"
   ]
  },
  {
   "attachments": {},
   "cell_type": "markdown",
   "metadata": {},
   "source": [
    "When the ZeroDivisionError occurs, it is not handled by any try-except block in the code. As a result, the exception propagates up the call stack, and the program terminates, displaying an error message or traceback that points to the location of the unhandled exception.\n",
    "\n"
   ]
  },
  {
   "attachments": {},
   "cell_type": "markdown",
   "metadata": {},
   "source": [
    "Q3.\n",
    "\n",
    "__try-except__"
   ]
  },
  {
   "cell_type": "code",
   "execution_count": 2,
   "metadata": {},
   "outputs": [
    {
     "name": "stdout",
     "output_type": "stream",
     "text": [
      "division by zero\n"
     ]
    }
   ],
   "source": [
    "try:\n",
    "    10/0\n",
    "except Exception as e:\n",
    "    print(e)"
   ]
  },
  {
   "attachments": {},
   "cell_type": "markdown",
   "metadata": {},
   "source": [
    "Q4."
   ]
  },
  {
   "cell_type": "code",
   "execution_count": 7,
   "metadata": {},
   "outputs": [
    {
     "name": "stdout",
     "output_type": "stream",
     "text": [
      "NO error\n"
     ]
    }
   ],
   "source": [
    "#a.\n",
    "try:\n",
    "    10/1\n",
    "except ZeroDivisionError as Z:\n",
    "    print(Z)\n",
    "else:\n",
    "    print(\"NO error\")"
   ]
  },
  {
   "cell_type": "code",
   "execution_count": null,
   "metadata": {},
   "outputs": [],
   "source": [
    "#b\n",
    "try:\n",
    "    10/1\n",
    "except ZeroDivisionError as Z:\n",
    "    print(Z)\n",
    "else:\n",
    "    print(\"NO error\")\n",
    "finally:\n",
    "    print(\"This block will always be executed irrespective of Error Raise or NOT !\")"
   ]
  },
  {
   "cell_type": "code",
   "execution_count": null,
   "metadata": {},
   "outputs": [],
   "source": [
    "#c\n",
    "def validate_age(age):\n",
    "    if age < 0:\n",
    "        raise ValueError(\"Age cannot be negative.\")\n",
    "    elif age > 120:\n",
    "        raise ValueError(\"Invalid age: too old.\")\n",
    "    else:\n",
    "        print(\"Age is valid.\")\n",
    "\n",
    "try:\n",
    "    age_input = int(input(\"Enter your age: \"))\n",
    "    validate_age(age_input)\n",
    "except ValueError as e:\n",
    "    print(\"Error:\", e)"
   ]
  },
  {
   "attachments": {},
   "cell_type": "markdown",
   "metadata": {},
   "source": [
    "Q5.\n",
    "\n",
    "Custom exceptions in Python are user-defined exceptions that are created by inheriting from the base Exception class or one of its subclasses. \n",
    "\n",
    "These exceptions are specifically designed to represent and handle exceptional situations that are unique to your application or domain.\n",
    "\n",
    "Example:"
   ]
  },
  {
   "cell_type": "code",
   "execution_count": 8,
   "metadata": {},
   "outputs": [
    {
     "name": "stdout",
     "output_type": "stream",
     "text": [
      "Email sent successfully.\n"
     ]
    }
   ],
   "source": [
    "class InvalidEmailError(Exception):\n",
    "    pass\n",
    "\n",
    "\n",
    "def send_email(email):\n",
    "    if not email:\n",
    "        raise InvalidEmailError(\"Email address is required.\")\n",
    "    # Code to send the email\n",
    "\n",
    "\n",
    "try:\n",
    "    email_address = input(\"Enter the recipient's email address: \")\n",
    "    send_email(email_address)\n",
    "    print(\"Email sent successfully.\")\n",
    "except InvalidEmailError as e:\n",
    "    print(\"Error:\", e)"
   ]
  },
  {
   "cell_type": "code",
   "execution_count": 10,
   "metadata": {},
   "outputs": [
    {
     "name": "stdout",
     "output_type": "stream",
     "text": [
      "Age is VALID\n"
     ]
    }
   ],
   "source": [
    "#Q6.\n",
    "\n",
    "class validateage(Exception):\n",
    "    def __init__(self, msg):\n",
    "        self.msg = msg\n",
    "    \n",
    "def validate_age(age):\n",
    "    if age<0:\n",
    "        raise validateage(\"Age cant be < 0\")\n",
    "    elif age>200:\n",
    "        raise validateage(\"Age is too High\")\n",
    "    else:\n",
    "        raise validateage(\"Age is VALID\")\n",
    "\n",
    "try:\n",
    "    age = int(input(\"ENTER the age: \"))\n",
    "    validate_age(age)\n",
    "except validateage as e:\n",
    "    print(e)"
   ]
  },
  {
   "cell_type": "code",
   "execution_count": null,
   "metadata": {},
   "outputs": [],
   "source": []
  }
 ],
 "metadata": {
  "kernelspec": {
   "display_name": "Python 3",
   "language": "python",
   "name": "python3"
  },
  "language_info": {
   "codemirror_mode": {
    "name": "ipython",
    "version": 3
   },
   "file_extension": ".py",
   "mimetype": "text/x-python",
   "name": "python",
   "nbconvert_exporter": "python",
   "pygments_lexer": "ipython3",
   "version": "3.10.6"
  },
  "orig_nbformat": 4
 },
 "nbformat": 4,
 "nbformat_minor": 2
}
