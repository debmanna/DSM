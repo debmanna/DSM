{
 "cells": [
  {
   "cell_type": "code",
   "execution_count": 5,
   "metadata": {},
   "outputs": [
    {
     "name": "stdout",
     "output_type": "stream",
     "text": [
      "Invalid Password\n"
     ]
    }
   ],
   "source": [
    "#Q1.\n",
    "\n",
    "def isValid(password):\n",
    "    \n",
    "    countLowercase = 0\n",
    "    countUppercase = 0\n",
    "    countNumber = 0\n",
    "    countSpecial = 0\n",
    "    \n",
    "    ListNumbers= [str(x) for x in range(11)]\n",
    "    \n",
    "    for x in password:\n",
    "        if x in password.upper():\n",
    "            countUppercase += 1\n",
    "        elif x in password.lower():\n",
    "            countLowercase += 1  \n",
    "        elif x in ListNumbers:\n",
    "            countNumber += 1\n",
    "        else:\n",
    "            countSpecial += 1\n",
    "    \n",
    "    if countLowercase + countUppercase + countNumber + countSpecial != 10:\n",
    "        return False\n",
    "    if countLowercase < 2:\n",
    "        return False\n",
    "    if countUppercase < 2:\n",
    "        return False\n",
    "    if countNumber == 0:\n",
    "        return False\n",
    "    if countSpecial < 3:\n",
    "        return False\n",
    "    \n",
    "    return  True\n",
    " \n",
    "password = input(\"ENTER a password: \")\n",
    "\n",
    "if isValid(password):\n",
    "    print(\"Valid Password\")\n",
    "else:\n",
    "    print(\"Invalid Password\")"
   ]
  },
  {
   "attachments": {},
   "cell_type": "markdown",
   "metadata": {},
   "source": [
    "#### Q2"
   ]
  },
  {
   "cell_type": "code",
   "execution_count": 6,
   "metadata": {},
   "outputs": [
    {
     "name": "stdout",
     "output_type": "stream",
     "text": [
      "\"abc\" starts with \"a\"\n"
     ]
    }
   ],
   "source": [
    "# Part1\n",
    "string = input(\"ENTER a string: \")\n",
    "letter = input(\"ENTER the letter: \").split()\n",
    "\n",
    "f = lambda string, letter: print(f'\"{string}\" starts with \"{letter[0]}\"') if string[0] == letter[0] else print(\"No\")\n",
    "\n",
    "f(string, letter)\n"
   ]
  },
  {
   "cell_type": "code",
   "execution_count": 8,
   "metadata": {},
   "outputs": [
    {
     "data": {
      "text/plain": [
       "True"
      ]
     },
     "execution_count": 8,
     "metadata": {},
     "output_type": "execute_result"
    }
   ],
   "source": [
    "# Part2\n",
    "string = input(\"ENTER the string: \")\n",
    "\n",
    "f = lambda string: string.isdigit()\n",
    "\n",
    "f(string)"
   ]
  },
  {
   "cell_type": "code",
   "execution_count": 19,
   "metadata": {},
   "outputs": [
    {
     "data": {
      "text/plain": [
       "[('grapes', 1), ('orange', 80), ('mango', 99)]"
      ]
     },
     "execution_count": 19,
     "metadata": {},
     "output_type": "execute_result"
    }
   ],
   "source": [
    "# Part3\n",
    "List = [(\"mango\",99),(\"orange\",80), (\"grapes\", 1)]\n",
    "\n",
    "def func (elem):\n",
    "    return elem[1]\n",
    "\n",
    "# sorting the list according to their quantity\n",
    "f = lambda List: List.sort(key = func)\n",
    "\n",
    "f(List)\n",
    "\n",
    "List"
   ]
  },
  {
   "cell_type": "code",
   "execution_count": 20,
   "metadata": {},
   "outputs": [
    {
     "data": {
      "text/plain": [
       "[1, 4, 9, 16, 25, 36, 49, 64, 81, 100]"
      ]
     },
     "execution_count": 20,
     "metadata": {},
     "output_type": "execute_result"
    }
   ],
   "source": [
    "# Part4\n",
    "\n",
    "[x**2 for x in range(1,11)]"
   ]
  },
  {
   "cell_type": "code",
   "execution_count": 22,
   "metadata": {},
   "outputs": [
    {
     "data": {
      "text/plain": [
       "[1.0,\n",
       " 1.2599210498948732,\n",
       " 1.4422495703074083,\n",
       " 1.5874010519681994,\n",
       " 1.7099759466766968,\n",
       " 1.8171205928321397,\n",
       " 1.912931182772389,\n",
       " 2.0,\n",
       " 2.080083823051904,\n",
       " 2.154434690031884]"
      ]
     },
     "execution_count": 22,
     "metadata": {},
     "output_type": "execute_result"
    }
   ],
   "source": [
    "# Part5\n",
    "[x**(1/3) for x in range(1,11)]"
   ]
  },
  {
   "cell_type": "code",
   "execution_count": 24,
   "metadata": {},
   "outputs": [
    {
     "data": {
      "text/plain": [
       "False"
      ]
     },
     "execution_count": 24,
     "metadata": {},
     "output_type": "execute_result"
    }
   ],
   "source": [
    "# part6\n",
    "\n",
    "f = lambda x: True if ~x&1 else False\n",
    "\n",
    "f(int(input(\"ENTER a number\").split()[0]))"
   ]
  },
  {
   "cell_type": "code",
   "execution_count": 25,
   "metadata": {},
   "outputs": [
    {
     "data": {
      "text/plain": [
       "[1, 3, 5, 7, 9]"
      ]
     },
     "execution_count": 25,
     "metadata": {},
     "output_type": "execute_result"
    }
   ],
   "source": [
    "# part7\n",
    "\n",
    "def func(x):\n",
    "    if x&1:\n",
    "        return True\n",
    "    \n",
    "    return False\n",
    "\n",
    "list(filter(func, list(range(1,11))))"
   ]
  },
  {
   "cell_type": "code",
   "execution_count": 43,
   "metadata": {},
   "outputs": [
    {
     "name": "stdout",
     "output_type": "stream",
     "text": [
      "[1, 2, 3, 4, 5, 6, 0, -1, -2, -3, -4, -5]\n"
     ]
    }
   ],
   "source": [
    "#part8\n",
    "\n",
    "NewList1 = []\n",
    "NewList2 = []\n",
    "\n",
    "List = [1, 2, 3, 4, 5, 6, -1, -2, -3, -4, -5, 0]\n",
    "\n",
    "li = [NewList1.append(x) if x>=0 else NewList2.append(x) for x in List]\n",
    "\n",
    "NewList1.extend(NewList2)\n",
    "\n",
    "print(NewList1)"
   ]
  },
  {
   "cell_type": "code",
   "execution_count": null,
   "metadata": {},
   "outputs": [],
   "source": []
  }
 ],
 "metadata": {
  "kernelspec": {
   "display_name": "Python 3",
   "language": "python",
   "name": "python3"
  },
  "language_info": {
   "codemirror_mode": {
    "name": "ipython",
    "version": 3
   },
   "file_extension": ".py",
   "mimetype": "text/x-python",
   "name": "python",
   "nbconvert_exporter": "python",
   "pygments_lexer": "ipython3",
   "version": "3.10.6"
  },
  "orig_nbformat": 4
 },
 "nbformat": 4,
 "nbformat_minor": 2
}
