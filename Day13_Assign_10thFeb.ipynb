{
 "cells": [
  {
   "attachments": {},
   "cell_type": "markdown",
   "metadata": {},
   "source": [
    "Q1. open()\n",
    "\n",
    "Different modes of opening a file:\n",
    "\n",
    "1. \"w\" write mode\n",
    "2. \"a\" append mode\n",
    "3. \"r\" read mode\n",
    "4. \"x\" create a new file abd open it for writing\n",
    "5. \"b\" binary mode\n",
    "6. \"t\" text mode\n",
    "7. \"+\" open a disk file for updating\n",
    "8. \"U\" universal newline mode"
   ]
  },
  {
   "attachments": {},
   "cell_type": "markdown",
   "metadata": {},
   "source": [
    "Q2. close()\n",
    "\n",
    "close() function is used to close a file which is already open\n",
    "\n",
    "It is important to close a file, otherwise the changes/edits that we made using the read() functions wont be reflected."
   ]
  },
  {
   "cell_type": "code",
   "execution_count": 17,
   "metadata": {},
   "outputs": [
    {
     "data": {
      "text/plain": [
       "'I want to become a Data Scientist\\n elolo\\nhel'"
      ]
     },
     "execution_count": 17,
     "metadata": {},
     "output_type": "execute_result"
    }
   ],
   "source": [
    "#Q3\n",
    "\n",
    "f = open(\"new.txt\",\"w\")\n",
    "\n",
    "f.write(\"I want to become a Data Scientist\\n elolo\\nhel\")\n",
    "\n",
    "f.close()\n",
    "\n",
    "data = open(\"new.txt\",\"r\")\n",
    "data.read()"
   ]
  },
  {
   "attachments": {},
   "cell_type": "markdown",
   "metadata": {},
   "source": [
    "Q4.  \n",
    "In Python, __\"read()\"__, __\"readline()\"__ and __\"readlines()\"__ are methods used to read data from a file\n",
    "\n",
    "1. __\"read()\"__ : This method reads the entire content of the Firl and returns it as a single string.  \n",
    "It reads from the current position of the file pointer to the enf pf the file.  \n",
    "If one doesnot specify a parameter, it will read the entire file. For example:"
   ]
  },
  {
   "cell_type": "code",
   "execution_count": 18,
   "metadata": {},
   "outputs": [
    {
     "name": "stdout",
     "output_type": "stream",
     "text": [
      "I want to become a Data Scientist\n",
      " elolo\n",
      "hel\n"
     ]
    }
   ],
   "source": [
    "with open(\"new.txt\",\"r\") as f:\n",
    "    data = f.read()\n",
    "\n",
    "print(data)"
   ]
  },
  {
   "attachments": {},
   "cell_type": "markdown",
   "metadata": {},
   "source": [
    "2. __\"readline()\"__: This method reads a single line from the file and returns it as a string. It moves the file pointer to the beginning of the next line.  \n",
    "If one calls the __\"readline()\"__ again, it will read the next line, and so on.  \n",
    "If one calls the __\"readline()\"__ when there are no more lines to read, it will return an empt string. For example:"
   ]
  },
  {
   "cell_type": "code",
   "execution_count": 19,
   "metadata": {},
   "outputs": [
    {
     "name": "stdout",
     "output_type": "stream",
     "text": [
      "I want to become a Data Scientist\n",
      "\n",
      " elolo\n",
      "\n",
      "hel\n",
      "\n"
     ]
    }
   ],
   "source": [
    "data = None\n",
    "\n",
    "with open(\"new.txt\",\"r\") as f:\n",
    "    while data!=\"\":\n",
    "        data = f.readline()\n",
    "        print(data)"
   ]
  },
  {
   "attachments": {},
   "cell_type": "markdown",
   "metadata": {},
   "source": [
    "3. __\"readlines\"__: This method reads all the lines of a file and returns them as __a ist of strings__.  \n",
    "Each element of the list represents a single line from the file and the list maintains the order of the lines. For example:"
   ]
  },
  {
   "cell_type": "code",
   "execution_count": 21,
   "metadata": {},
   "outputs": [
    {
     "name": "stdout",
     "output_type": "stream",
     "text": [
      "['I want to become a Data Scientist\\n', ' elolo\\n', 'hel']\n"
     ]
    }
   ],
   "source": [
    "with open(\"new.txt\") as f:\n",
    "    lines = f.readlines()\n",
    "    \n",
    "print(lines)"
   ]
  },
  {
   "cell_type": "code",
   "execution_count": null,
   "metadata": {},
   "outputs": [],
   "source": []
  },
  {
   "cell_type": "code",
   "execution_count": null,
   "metadata": {},
   "outputs": [],
   "source": []
  },
  {
   "cell_type": "code",
   "execution_count": null,
   "metadata": {},
   "outputs": [],
   "source": []
  },
  {
   "cell_type": "code",
   "execution_count": null,
   "metadata": {},
   "outputs": [],
   "source": []
  }
 ],
 "metadata": {
  "kernelspec": {
   "display_name": "Python 3",
   "language": "python",
   "name": "python3"
  },
  "language_info": {
   "codemirror_mode": {
    "name": "ipython",
    "version": 3
   },
   "file_extension": ".py",
   "mimetype": "text/x-python",
   "name": "python",
   "nbconvert_exporter": "python",
   "pygments_lexer": "ipython3",
   "version": "3.10.6"
  },
  "orig_nbformat": 4
 },
 "nbformat": 4,
 "nbformat_minor": 2
}
