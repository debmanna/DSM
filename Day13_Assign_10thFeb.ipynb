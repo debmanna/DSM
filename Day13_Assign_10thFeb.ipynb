{
 "cells": [
  {
   "attachments": {},
   "cell_type": "markdown",
   "metadata": {},
   "source": [
    "Q1. open()\n",
    "\n",
    "Different modes of opening a file:\n",
    "\n",
    "1. \"w\" write mode\n",
    "2. \"a\" append mode\n",
    "3. \"r\" read mode\n",
    "4. \"x\" create a new file abd open it for writing\n",
    "5. \"b\" binary mode\n",
    "6. \"t\" text mode\n",
    "7. \"+\" open a disk file for updating\n",
    "8. \"U\" universal newline mode"
   ]
  },
  {
   "attachments": {},
   "cell_type": "markdown",
   "metadata": {},
   "source": [
    "Q2. close()\n",
    "\n",
    "close() function is used to close a file which is already open\n",
    "\n",
    "It is important to close a file, otherwise the changes/edits that we made using the read() functions wont be reflected."
   ]
  },
  {
   "cell_type": "code",
   "execution_count": 17,
   "metadata": {},
   "outputs": [
    {
     "data": {
      "text/plain": [
       "'I want to become a Data Scientist\\n elolo\\nhel'"
      ]
     },
     "execution_count": 17,
     "metadata": {},
     "output_type": "execute_result"
    }
   ],
   "source": [
    "#Q3\n",
    "\n",
    "f = open(\"new.txt\",\"w\")\n",
    "\n",
    "f.write(\"I want to become a Data Scientist\\n elolo\\nhel\")\n",
    "\n",
    "f.close()\n",
    "\n",
    "data = open(\"new.txt\",\"r\")\n",
    "data.read()"
   ]
  },
  {
   "attachments": {},
   "cell_type": "markdown",
   "metadata": {},
   "source": [
    "Q4.  \n",
    "In Python, __\"read()\"__, __\"readline()\"__ and __\"readlines()\"__ are methods used to read data from a file\n",
    "\n",
    "1. __\"read()\"__ : This method reads the entire content of the Firl and returns it as a single string.  \n",
    "It reads from the current position of the file pointer to the enf pf the file.  \n",
    "If one doesnot specify a parameter, it will read the entire file. For example:"
   ]
  },
  {
   "cell_type": "code",
   "execution_count": 18,
   "metadata": {},
   "outputs": [
    {
     "name": "stdout",
     "output_type": "stream",
     "text": [
      "I want to become a Data Scientist\n",
      " elolo\n",
      "hel\n"
     ]
    }
   ],
   "source": [
    "with open(\"new.txt\",\"r\") as f:\n",
    "    data = f.read()\n",
    "\n",
    "print(data)"
   ]
  },
  {
   "attachments": {},
   "cell_type": "markdown",
   "metadata": {},
   "source": [
    "2. __\"readline()\"__: This method reads a single line from the file and returns it as a string. It moves the file pointer to the beginning of the next line.  \n",
    "If one calls the __\"readline()\"__ again, it will read the next line, and so on.  \n",
    "If one calls the __\"readline()\"__ when there are no more lines to read, it will return an empt string. For example:"
   ]
  },
  {
   "cell_type": "code",
   "execution_count": 19,
   "metadata": {},
   "outputs": [
    {
     "name": "stdout",
     "output_type": "stream",
     "text": [
      "I want to become a Data Scientist\n",
      "\n",
      " elolo\n",
      "\n",
      "hel\n",
      "\n"
     ]
    }
   ],
   "source": [
    "data = None\n",
    "\n",
    "with open(\"new.txt\",\"r\") as f:\n",
    "    while data!=\"\":\n",
    "        data = f.readline()\n",
    "        print(data)"
   ]
  },
  {
   "attachments": {},
   "cell_type": "markdown",
   "metadata": {},
   "source": [
    "3. __\"readlines\"__: This method reads all the lines of a file and returns them as __a ist of strings__.  \n",
    "Each element of the list represents a single line from the file and the list maintains the order of the lines. For example:"
   ]
  },
  {
   "cell_type": "code",
   "execution_count": 21,
   "metadata": {},
   "outputs": [
    {
     "name": "stdout",
     "output_type": "stream",
     "text": [
      "['I want to become a Data Scientist\\n', ' elolo\\n', 'hel']\n"
     ]
    }
   ],
   "source": [
    "with open(\"new.txt\") as f:\n",
    "    lines = f.readlines()\n",
    "    \n",
    "print(lines)"
   ]
  },
  {
   "attachments": {},
   "cell_type": "markdown",
   "metadata": {},
   "source": [
    "Q5. \n",
    "\n",
    "The `with` statement is used with the `open()` function in Python to ensure that a file is properly opened and closed. When you open a file using `open()`, you need to explicitly close the file using the `close()` method to release system resources. Failing to close the file can lead to resource leaks or data corruption.\n",
    "\n",
    "The advantage of using the `with` statement with `open()` is that it automatically takes care of closing the file for you, even if an exception occurs. The syntax is as follows:\n"
   ]
  },
  {
   "cell_type": "code",
   "execution_count": 3,
   "metadata": {},
   "outputs": [],
   "source": [
    "with open(\"new.txt\", \"r\") as file:\n",
    "    # Perform operations on the file\n",
    "    ..."
   ]
  },
  {
   "attachments": {},
   "cell_type": "markdown",
   "metadata": {},
   "source": [
    "\n",
    "The `with` statement creates a context within which the file is opened. Once the block of code inside the `with` statement is executed, the file is automatically closed, ensuring proper cleanup. If an exception occurs within the block, the file is still closed before the exception propagates, preventing resource leaks.\n",
    "\n",
    "By using the `with` statement, you eliminate the need for explicitly calling the `close()` method, making your code cleaner and more concise. It promotes better code readability and reduces the chances of forgetting to close the file.\n"
   ]
  },
  {
   "attachments": {},
   "cell_type": "markdown",
   "metadata": {},
   "source": [
    "\n",
    "Q6. \n",
    "\n",
    "The `write()` and `writelines()` functions are used to write data to a file in Python.\n",
    "\n",
    "The `write()` function is used to write a single string to a file. Its syntax is as follows:\n"
   ]
  },
  {
   "cell_type": "code",
   "execution_count": 5,
   "metadata": {},
   "outputs": [],
   "source": [
    "with open(\"new.txt\", \"w\") as file:\n",
    "    string = \"Hello World\"\n",
    "    file.write(string)"
   ]
  },
  {
   "attachments": {},
   "cell_type": "markdown",
   "metadata": {},
   "source": [
    "\n",
    "Here, `file` is the file object returned by the `open()` function, and `string` is the data you want to write. The `write()` function appends the string to the file, starting from the current position of the file pointer.\n",
    "\n",
    "Example:\n"
   ]
  },
  {
   "cell_type": "code",
   "execution_count": null,
   "metadata": {},
   "outputs": [],
   "source": [
    "with open('example.txt', 'w') as file:\n",
    "    file.write('Hello, world!')"
   ]
  },
  {
   "attachments": {},
   "cell_type": "markdown",
   "metadata": {},
   "source": [
    "\n",
    "In this example, the `write()` function is used to write the string `'Hello, world!'` to the file named `'example.txt'`. If the file does not exist, it will be created. If it already exists, the existing content will be overwritten.\n",
    "\n",
    "The `writelines()` function is used to write multiple strings to a file. It takes an iterable (such as a list or a tuple) of strings and writes each string as a separate line. Its syntax is as follows:\n"
   ]
  },
  {
   "cell_type": "code",
   "execution_count": null,
   "metadata": {},
   "outputs": [],
   "source": [
    "\n",
    "lines = ['Line 1\\n', 'Line 2\\n', 'Line 3\\n']\n",
    "\n",
    "with open('example.txt', 'w') as file:\n",
    "    file.writelines(lines)"
   ]
  },
  {
   "attachments": {},
   "cell_type": "markdown",
   "metadata": {},
   "source": [
    "\n",
    "In this example, the `writelines()` function is used to write the strings in the `lines` list to the file. Each string will be written as a separate line.\n",
    "\n"
   ]
  },
  {
   "cell_type": "code",
   "execution_count": null,
   "metadata": {},
   "outputs": [],
   "source": []
  },
  {
   "cell_type": "code",
   "execution_count": null,
   "metadata": {},
   "outputs": [],
   "source": []
  },
  {
   "cell_type": "code",
   "execution_count": null,
   "metadata": {},
   "outputs": [],
   "source": []
  }
 ],
 "metadata": {
  "kernelspec": {
   "display_name": "Python 3",
   "language": "python",
   "name": "python3"
  },
  "language_info": {
   "codemirror_mode": {
    "name": "ipython",
    "version": 3
   },
   "file_extension": ".py",
   "mimetype": "text/x-python",
   "name": "python",
   "nbconvert_exporter": "python",
   "pygments_lexer": "ipython3",
   "version": "3.10.6"
  },
  "orig_nbformat": 4
 },
 "nbformat": 4,
 "nbformat_minor": 2
}
