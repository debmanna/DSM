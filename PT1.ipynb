{
 "cells": [
  {
   "cell_type": "code",
   "execution_count": 5,
   "metadata": {},
   "outputs": [
    {
     "data": {
      "text/plain": [
       "1120239389683814400"
      ]
     },
     "execution_count": 5,
     "metadata": {},
     "output_type": "execute_result"
    }
   ],
   "source": [
    "#Q1\n",
    "\n",
    "def func(iterable_DS):\n",
    "    \n",
    "    product = 1\n",
    "    \n",
    "    for x in iterable_DS:\n",
    "        if type(x) == int or type(x) == float :\n",
    "            product = product * x\n",
    "        elif type(x) == list or type(x) == set:\n",
    "            product = product * func(x)\n",
    "        elif type(x) == dict:\n",
    "            product = product * func(x.values())\n",
    "        \n",
    "        if product == 0:\n",
    "            break\n",
    "                  \n",
    "    return product\n",
    "        \n",
    "List = [1,2,3,4, [44,55,66, True], False, (34,56,78,89,34), {1,2,3,3,2,1}, {1:34, \"key2\": [55, 67, 78, 89], 4: (45,\n",
    "22, 61, 34)}, [56, 'data science'], 'Machine Learning']\n",
    "\n",
    "func(List)"
   ]
  },
  {
   "cell_type": "code",
   "execution_count": 8,
   "metadata": {},
   "outputs": [
    {
     "name": "stdout",
     "output_type": "stream",
     "text": [
      "r$dzmg$gl$yvxlnv$z$wzgz$hxrvmgrhg\n"
     ]
    }
   ],
   "source": [
    "#Q2\n",
    "\n",
    "string = input(\"ENTER the String: \").strip().lower()\n",
    "\n",
    "List_alphabets = list(range(ord('a'),ord('z')+1))\n",
    "\n",
    "ans = \"\"\n",
    "\n",
    "for x in string:\n",
    "    if x == ' ':\n",
    "        ans += '$'\n",
    "    else:\n",
    "        ans+= chr(List_alphabets[ord('a')-ord(x)-1])\n",
    "    \n",
    "print(ans)"
   ]
  },
  {
   "cell_type": "code",
   "execution_count": 7,
   "metadata": {},
   "outputs": [
    {
     "data": {
      "text/plain": [
       "'a'"
      ]
     },
     "execution_count": 7,
     "metadata": {},
     "output_type": "execute_result"
    }
   ],
   "source": [
    "chr(ord('a'))"
   ]
  },
  {
   "cell_type": "code",
   "execution_count": null,
   "metadata": {},
   "outputs": [],
   "source": []
  },
  {
   "cell_type": "code",
   "execution_count": null,
   "metadata": {},
   "outputs": [],
   "source": []
  }
 ],
 "metadata": {
  "kernelspec": {
   "display_name": "Python 3",
   "language": "python",
   "name": "python3"
  },
  "language_info": {
   "codemirror_mode": {
    "name": "ipython",
    "version": 3
   },
   "file_extension": ".py",
   "mimetype": "text/x-python",
   "name": "python",
   "nbconvert_exporter": "python",
   "pygments_lexer": "ipython3",
   "version": "3.10.6"
  },
  "orig_nbformat": 4
 },
 "nbformat": 4,
 "nbformat_minor": 2
}
