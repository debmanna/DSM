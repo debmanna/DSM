{
 "cells": [
  {
   "attachments": {},
   "cell_type": "markdown",
   "metadata": {},
   "source": [
    "### __Assignment1__"
   ]
  },
  {
   "attachments": {},
   "cell_type": "markdown",
   "metadata": {},
   "source": [
    "##### Question1. "
   ]
  },
  {
   "cell_type": "code",
   "execution_count": 1,
   "metadata": {},
   "outputs": [
    {
     "name": "stdout",
     "output_type": "stream",
     "text": [
      "B\n"
     ]
    }
   ],
   "source": [
    "percentage = float(input(\"ENTER the percentage of marks obtained by you: \"))\n",
    "\n",
    "if percentage>90:\n",
    "    print(\"A\")\n",
    "elif percentage<= 90 and percentage>80:\n",
    "    print(\"B\")\n",
    "elif percentage<=80 and percentage>=60:\n",
    "    print(\"C\")\n",
    "else:\n",
    "    print(\"D\")"
   ]
  },
  {
   "attachments": {},
   "cell_type": "markdown",
   "metadata": {},
   "source": [
    "##### Question2."
   ]
  },
  {
   "cell_type": "code",
   "execution_count": 2,
   "metadata": {},
   "outputs": [
    {
     "name": "stdout",
     "output_type": "stream",
     "text": [
      "5\n"
     ]
    }
   ],
   "source": [
    "price = float(input(\"ENTER the Price of the BIKE in rupees: \"))\n",
    "\n",
    "if price>100000:\n",
    "    tax = 15\n",
    "elif price<=100000 and price>50000:\n",
    "    tax = 10\n",
    "else:\n",
    "    tax = 5\n",
    "\n",
    "print(tax)"
   ]
  },
  {
   "attachments": {},
   "cell_type": "markdown",
   "metadata": {},
   "source": [
    "##### Question3."
   ]
  },
  {
   "cell_type": "code",
   "execution_count": 3,
   "metadata": {},
   "outputs": [
    {
     "name": "stdout",
     "output_type": "stream",
     "text": [
      "Red Fort\n"
     ]
    }
   ],
   "source": [
    "city = input(\"ENTER the name of the city: \").lower()\n",
    "\n",
    "if city == \"delhi\":\n",
    "    monument = \"Red Fort\"\n",
    "elif city == \"agra\":\n",
    "    monument = \"Taj Mahal\"\n",
    "elif city ==\"jaipur\":\n",
    "    monument = \"Jal Mahal\"\n",
    "else:\n",
    "    monument = \"Invalid Input\"\n",
    "\n",
    "print(monument)"
   ]
  },
  {
   "attachments": {},
   "cell_type": "markdown",
   "metadata": {},
   "source": [
    "##### Question4."
   ]
  },
  {
   "cell_type": "code",
   "execution_count": 4,
   "metadata": {},
   "outputs": [
    {
     "name": "stdout",
     "output_type": "stream",
     "text": [
      "0\n"
     ]
    }
   ],
   "source": [
    "number = int(input(\"ENTER a number: \"))\n",
    "\n",
    "count = 0\n",
    "while number > 10 and number%3 == 0:\n",
    "    count = count + 1\n",
    "    number = number/3\n",
    "\n",
    "print(count)"
   ]
  },
  {
   "attachments": {},
   "cell_type": "markdown",
   "metadata": {},
   "source": [
    "##### Question5."
   ]
  },
  {
   "attachments": {},
   "cell_type": "markdown",
   "metadata": {},
   "source": [
    "\"while\" loop should be used when we donot know the exact number of times the code (inside the loop) would be iterated. For \"while\" loops we are generally aware of the condition till which the code is iterated. \n",
    "\n",
    "while ( condition is True):\n",
    "    # do some task\n",
    "\n",
    "In case of \"for\" loop we generally know the number of iterations.\n",
    "\n",
    "Example of \"while\" loop -\n",
    "\n",
    "Counting the number of time 3 divides a given integer\n",
    "\n",
    "CODE:\n",
    "\n",
    "x = int(input(\"ENTER the number: ))\n",
    "count = 0\n",
    "\n",
    "while x>0 and x%3 == 0:\n",
    "    count+=1\n",
    "    x = x/3\n",
    "\n",
    "print(count)"
   ]
  },
  {
   "attachments": {},
   "cell_type": "markdown",
   "metadata": {},
   "source": [
    "##### Question6."
   ]
  },
  {
   "cell_type": "code",
   "execution_count": 5,
   "metadata": {},
   "outputs": [
    {
     "name": "stdout",
     "output_type": "stream",
     "text": [
      "* * * * * \n",
      "* * * * * \n",
      "* * * * * \n",
      "* * * * * \n",
      "* * * * * \n",
      "\n",
      "--------------------\n",
      "\n",
      "* * * * * \n",
      "* * * * \n",
      "* * * \n",
      "* * \n",
      "* \n",
      "\n",
      "--------------------\n",
      "\n",
      "* \n",
      "* * \n",
      "* * * \n",
      "* * * * \n",
      "* * * * * \n"
     ]
    }
   ],
   "source": [
    "import copy\n",
    "\n",
    "x = int(input(\"ENTER a postive integer: \"))\n",
    "y = copy.copy(x)\n",
    "# Pattern1\n",
    "while x :\n",
    "    temp = copy.copy(y)\n",
    "    while temp:\n",
    "        print(\"*\",end=\" \")\n",
    "        temp -= 1\n",
    "    print()\n",
    "    x-=1\n",
    "\n",
    "print(\"\\n--------------------\\n\")\n",
    "\n",
    "x = copy.copy(y)\n",
    "\n",
    "# Pattern2\n",
    "while x :\n",
    "    temp = copy.copy(x)\n",
    "    while temp:\n",
    "        print(\"*\",end=\" \")\n",
    "        temp -= 1\n",
    "    print()\n",
    "    x-=1\n",
    "\n",
    "print(\"\\n--------------------\\n\")\n",
    "\n",
    "x = copy.copy(y)\n",
    "\n",
    "# Pattern3\n",
    "j = 1\n",
    "while x :\n",
    "    k = copy.copy(j)\n",
    "    \n",
    "    while k:\n",
    "        print(\"*\",end =\" \")\n",
    "        k-=1\n",
    "        \n",
    "    j+=1\n",
    "    x-=1\n",
    "    print()"
   ]
  },
  {
   "attachments": {},
   "cell_type": "markdown",
   "metadata": {},
   "source": [
    "##### Question7. and 8."
   ]
  },
  {
   "cell_type": "code",
   "execution_count": 6,
   "metadata": {},
   "outputs": [
    {
     "name": "stdout",
     "output_type": "stream",
     "text": [
      "5 4 3 2 1 "
     ]
    }
   ],
   "source": [
    "x = int(input(\"ENTER a positive number: \"))\n",
    "\n",
    "while x>0:\n",
    "    print(x, end=\" \")\n",
    "    x-=1"
   ]
  },
  {
   "cell_type": "code",
   "execution_count": null,
   "metadata": {},
   "outputs": [],
   "source": []
  },
  {
   "cell_type": "code",
   "execution_count": null,
   "metadata": {},
   "outputs": [],
   "source": []
  },
  {
   "cell_type": "code",
   "execution_count": null,
   "metadata": {},
   "outputs": [],
   "source": []
  },
  {
   "cell_type": "code",
   "execution_count": null,
   "metadata": {},
   "outputs": [],
   "source": []
  }
 ],
 "metadata": {
  "kernelspec": {
   "display_name": "Python 3",
   "language": "python",
   "name": "python3"
  },
  "language_info": {
   "codemirror_mode": {
    "name": "ipython",
    "version": 3
   },
   "file_extension": ".py",
   "mimetype": "text/x-python",
   "name": "python",
   "nbconvert_exporter": "python",
   "pygments_lexer": "ipython3",
   "version": "3.10.6"
  },
  "orig_nbformat": 4
 },
 "nbformat": 4,
 "nbformat_minor": 2
}
